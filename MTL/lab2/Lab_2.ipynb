{
  "cells": [
    {
      "cell_type": "markdown",
      "metadata": {
        "colab_type": "text",
        "id": "view-in-github"
      },
      "source": [
        "<a href=\"https://colab.research.google.com/github/Letch49/ML_vvsu_2024/blob/master/lab2/%D0%97%D0%B0%D0%B4%D0%B0%D0%BD%D0%B8%D0%B5_2.ipynb\" target=\"_parent\"><img src=\"https://colab.research.google.com/assets/colab-badge.svg\" alt=\"Open In Colab\"/></a>"
      ]
    },
    {
      "cell_type": "markdown",
      "metadata": {
        "id": "_dGfjiUjUNab"
      },
      "source": [
        "#Задание по практике 2"
      ]
    },
    {
      "cell_type": "code",
      "execution_count": 1,
      "metadata": {
        "id": "7u0VPzz-UKNu"
      },
      "outputs": [],
      "source": [
        "import pandas as pd\n",
        "import seaborn as sns\n",
        "import matplotlib.pyplot as plt\n",
        "%matplotlib inline"
      ]
    },
    {
      "cell_type": "markdown",
      "metadata": {
        "id": "yKPA-E-VVSS-"
      },
      "source": [
        "##Введение в описательную статистику"
      ]
    },
    {
      "cell_type": "markdown",
      "metadata": {
        "id": "Rrr4WPcGUwOx"
      },
      "source": [
        "1. Выберите категориальную целевую переменную (**Y**)\n",
        "\n",
        "2. Выберите переменную для анализа относительно категории (**X**)\n",
        "\n",
        "3. Выведитие обобщенную статистическую информацию переменной (**X**)\n",
        "\n",
        "2. Вычислите среднее, медиану, моду, минимум, максимум, стандартное отклонение относительно целевой пременной из файла Classification datasets в соответствии с вашим вариантом\n",
        "\n",
        "3. Сделайте вывод относительно полученных результатов\n",
        "\n",
        "p.s если у вас нет категориальных признаков - преобразуйте любой числовой в категориальный (https://pandas.pydata.org/docs/reference/api/pandas.cut.html). Важно **не** использовать преобразованный Y вместе с этим же X (то есть, если вы преобразовали возраст в категорию, то вы не моежет использовать возраст в качестве X и возраст категорию в качестве Y)"
      ]
    },
    {
      "cell_type": "code",
      "execution_count": 10,
      "metadata": {
        "id": "wZiCpTwgUuYw"
      },
      "outputs": [
        {
          "data": {
            "text/html": [
              "<div>\n",
              "<style scoped>\n",
              "    .dataframe tbody tr th:only-of-type {\n",
              "        vertical-align: middle;\n",
              "    }\n",
              "\n",
              "    .dataframe tbody tr th {\n",
              "        vertical-align: top;\n",
              "    }\n",
              "\n",
              "    .dataframe thead th {\n",
              "        text-align: right;\n",
              "    }\n",
              "</style>\n",
              "<table border=\"1\" class=\"dataframe\">\n",
              "  <thead>\n",
              "    <tr style=\"text-align: right;\">\n",
              "      <th></th>\n",
              "      <th>age</th>\n",
              "      <th>sex</th>\n",
              "      <th>bmi</th>\n",
              "      <th>children</th>\n",
              "      <th>smoker</th>\n",
              "      <th>region</th>\n",
              "      <th>charges</th>\n",
              "    </tr>\n",
              "  </thead>\n",
              "  <tbody>\n",
              "    <tr>\n",
              "      <th>0</th>\n",
              "      <td>19</td>\n",
              "      <td>female</td>\n",
              "      <td>27.900</td>\n",
              "      <td>0</td>\n",
              "      <td>yes</td>\n",
              "      <td>southwest</td>\n",
              "      <td>16884.92400</td>\n",
              "    </tr>\n",
              "    <tr>\n",
              "      <th>1</th>\n",
              "      <td>18</td>\n",
              "      <td>male</td>\n",
              "      <td>33.770</td>\n",
              "      <td>1</td>\n",
              "      <td>no</td>\n",
              "      <td>southeast</td>\n",
              "      <td>1725.55230</td>\n",
              "    </tr>\n",
              "    <tr>\n",
              "      <th>2</th>\n",
              "      <td>28</td>\n",
              "      <td>male</td>\n",
              "      <td>33.000</td>\n",
              "      <td>3</td>\n",
              "      <td>no</td>\n",
              "      <td>southeast</td>\n",
              "      <td>4449.46200</td>\n",
              "    </tr>\n",
              "    <tr>\n",
              "      <th>3</th>\n",
              "      <td>33</td>\n",
              "      <td>male</td>\n",
              "      <td>22.705</td>\n",
              "      <td>0</td>\n",
              "      <td>no</td>\n",
              "      <td>northwest</td>\n",
              "      <td>21984.47061</td>\n",
              "    </tr>\n",
              "    <tr>\n",
              "      <th>4</th>\n",
              "      <td>32</td>\n",
              "      <td>male</td>\n",
              "      <td>28.880</td>\n",
              "      <td>0</td>\n",
              "      <td>no</td>\n",
              "      <td>northwest</td>\n",
              "      <td>3866.85520</td>\n",
              "    </tr>\n",
              "    <tr>\n",
              "      <th>...</th>\n",
              "      <td>...</td>\n",
              "      <td>...</td>\n",
              "      <td>...</td>\n",
              "      <td>...</td>\n",
              "      <td>...</td>\n",
              "      <td>...</td>\n",
              "      <td>...</td>\n",
              "    </tr>\n",
              "    <tr>\n",
              "      <th>1333</th>\n",
              "      <td>50</td>\n",
              "      <td>male</td>\n",
              "      <td>30.970</td>\n",
              "      <td>3</td>\n",
              "      <td>no</td>\n",
              "      <td>northwest</td>\n",
              "      <td>10600.54830</td>\n",
              "    </tr>\n",
              "    <tr>\n",
              "      <th>1334</th>\n",
              "      <td>18</td>\n",
              "      <td>female</td>\n",
              "      <td>31.920</td>\n",
              "      <td>0</td>\n",
              "      <td>no</td>\n",
              "      <td>northeast</td>\n",
              "      <td>2205.98080</td>\n",
              "    </tr>\n",
              "    <tr>\n",
              "      <th>1335</th>\n",
              "      <td>18</td>\n",
              "      <td>female</td>\n",
              "      <td>36.850</td>\n",
              "      <td>0</td>\n",
              "      <td>no</td>\n",
              "      <td>southeast</td>\n",
              "      <td>1629.83350</td>\n",
              "    </tr>\n",
              "    <tr>\n",
              "      <th>1336</th>\n",
              "      <td>21</td>\n",
              "      <td>female</td>\n",
              "      <td>25.800</td>\n",
              "      <td>0</td>\n",
              "      <td>no</td>\n",
              "      <td>southwest</td>\n",
              "      <td>2007.94500</td>\n",
              "    </tr>\n",
              "    <tr>\n",
              "      <th>1337</th>\n",
              "      <td>61</td>\n",
              "      <td>female</td>\n",
              "      <td>29.070</td>\n",
              "      <td>0</td>\n",
              "      <td>yes</td>\n",
              "      <td>northwest</td>\n",
              "      <td>29141.36030</td>\n",
              "    </tr>\n",
              "  </tbody>\n",
              "</table>\n",
              "<p>1338 rows × 7 columns</p>\n",
              "</div>"
            ],
            "text/plain": [
              "      age     sex     bmi  children smoker     region      charges\n",
              "0      19  female  27.900         0    yes  southwest  16884.92400\n",
              "1      18    male  33.770         1     no  southeast   1725.55230\n",
              "2      28    male  33.000         3     no  southeast   4449.46200\n",
              "3      33    male  22.705         0     no  northwest  21984.47061\n",
              "4      32    male  28.880         0     no  northwest   3866.85520\n",
              "...   ...     ...     ...       ...    ...        ...          ...\n",
              "1333   50    male  30.970         3     no  northwest  10600.54830\n",
              "1334   18  female  31.920         0     no  northeast   2205.98080\n",
              "1335   18  female  36.850         0     no  southeast   1629.83350\n",
              "1336   21  female  25.800         0     no  southwest   2007.94500\n",
              "1337   61  female  29.070         0    yes  northwest  29141.36030\n",
              "\n",
              "[1338 rows x 7 columns]"
            ]
          },
          "execution_count": 10,
          "metadata": {},
          "output_type": "execute_result"
        }
      ],
      "source": [
        "df = pd.read_csv(\"insurance.csv\")\n",
        "df"
      ]
    },
    {
      "cell_type": "code",
      "execution_count": 50,
      "metadata": {},
      "outputs": [
        {
          "data": {
            "text/html": [
              "<div>\n",
              "<style scoped>\n",
              "    .dataframe tbody tr th:only-of-type {\n",
              "        vertical-align: middle;\n",
              "    }\n",
              "\n",
              "    .dataframe tbody tr th {\n",
              "        vertical-align: top;\n",
              "    }\n",
              "\n",
              "    .dataframe thead th {\n",
              "        text-align: right;\n",
              "    }\n",
              "</style>\n",
              "<table border=\"1\" class=\"dataframe\">\n",
              "  <thead>\n",
              "    <tr style=\"text-align: right;\">\n",
              "      <th></th>\n",
              "      <th>count</th>\n",
              "      <th>mean</th>\n",
              "      <th>std</th>\n",
              "      <th>min</th>\n",
              "      <th>25%</th>\n",
              "      <th>50%</th>\n",
              "      <th>75%</th>\n",
              "      <th>max</th>\n",
              "    </tr>\n",
              "    <tr>\n",
              "      <th>smoker</th>\n",
              "      <th></th>\n",
              "      <th></th>\n",
              "      <th></th>\n",
              "      <th></th>\n",
              "      <th></th>\n",
              "      <th></th>\n",
              "      <th></th>\n",
              "      <th></th>\n",
              "    </tr>\n",
              "  </thead>\n",
              "  <tbody>\n",
              "    <tr>\n",
              "      <th>no</th>\n",
              "      <td>1064.0</td>\n",
              "      <td>39.385338</td>\n",
              "      <td>14.083410</td>\n",
              "      <td>18.0</td>\n",
              "      <td>26.75</td>\n",
              "      <td>40.0</td>\n",
              "      <td>52.0</td>\n",
              "      <td>64.0</td>\n",
              "    </tr>\n",
              "    <tr>\n",
              "      <th>yes</th>\n",
              "      <td>274.0</td>\n",
              "      <td>38.514599</td>\n",
              "      <td>13.923186</td>\n",
              "      <td>18.0</td>\n",
              "      <td>27.00</td>\n",
              "      <td>38.0</td>\n",
              "      <td>49.0</td>\n",
              "      <td>64.0</td>\n",
              "    </tr>\n",
              "  </tbody>\n",
              "</table>\n",
              "</div>"
            ],
            "text/plain": [
              "         count       mean        std   min    25%   50%   75%   max\n",
              "smoker                                                             \n",
              "no      1064.0  39.385338  14.083410  18.0  26.75  40.0  52.0  64.0\n",
              "yes      274.0  38.514599  13.923186  18.0  27.00  38.0  49.0  64.0"
            ]
          },
          "execution_count": 50,
          "metadata": {},
          "output_type": "execute_result"
        }
      ],
      "source": [
        "Y = df.groupby([\"smoker\"])\n",
        "X = Y[\"age\"].describe()\n",
        "X"
      ]
    },
    {
      "cell_type": "code",
      "execution_count": 51,
      "metadata": {
        "id": "u3OeTGcGp2sY"
      },
      "outputs": [
        {
          "data": {
            "text/html": [
              "<div>\n",
              "<style scoped>\n",
              "    .dataframe tbody tr th:only-of-type {\n",
              "        vertical-align: middle;\n",
              "    }\n",
              "\n",
              "    .dataframe tbody tr th {\n",
              "        vertical-align: top;\n",
              "    }\n",
              "\n",
              "    .dataframe thead th {\n",
              "        text-align: right;\n",
              "    }\n",
              "</style>\n",
              "<table border=\"1\" class=\"dataframe\">\n",
              "  <thead>\n",
              "    <tr style=\"text-align: right;\">\n",
              "      <th></th>\n",
              "      <th>count</th>\n",
              "      <th>mean</th>\n",
              "      <th>std</th>\n",
              "      <th>min</th>\n",
              "      <th>25%</th>\n",
              "      <th>50%</th>\n",
              "      <th>75%</th>\n",
              "      <th>max</th>\n",
              "    </tr>\n",
              "    <tr>\n",
              "      <th>smoker</th>\n",
              "      <th></th>\n",
              "      <th></th>\n",
              "      <th></th>\n",
              "      <th></th>\n",
              "      <th></th>\n",
              "      <th></th>\n",
              "      <th></th>\n",
              "      <th></th>\n",
              "    </tr>\n",
              "  </thead>\n",
              "  <tbody>\n",
              "    <tr>\n",
              "      <th>no</th>\n",
              "      <td>1064.0</td>\n",
              "      <td>39.385338</td>\n",
              "      <td>14.083410</td>\n",
              "      <td>18.0</td>\n",
              "      <td>26.75</td>\n",
              "      <td>40.0</td>\n",
              "      <td>52.0</td>\n",
              "      <td>64.0</td>\n",
              "    </tr>\n",
              "    <tr>\n",
              "      <th>yes</th>\n",
              "      <td>274.0</td>\n",
              "      <td>38.514599</td>\n",
              "      <td>13.923186</td>\n",
              "      <td>18.0</td>\n",
              "      <td>27.00</td>\n",
              "      <td>38.0</td>\n",
              "      <td>49.0</td>\n",
              "      <td>64.0</td>\n",
              "    </tr>\n",
              "  </tbody>\n",
              "</table>\n",
              "</div>"
            ],
            "text/plain": [
              "         count       mean        std   min    25%   50%   75%   max\n",
              "smoker                                                             \n",
              "no      1064.0  39.385338  14.083410  18.0  26.75  40.0  52.0  64.0\n",
              "yes      274.0  38.514599  13.923186  18.0  27.00  38.0  49.0  64.0"
            ]
          },
          "execution_count": 51,
          "metadata": {},
          "output_type": "execute_result"
        }
      ],
      "source": [
        "describe = Y[\"age\"].describe()  # ваш код здесь\n",
        "describe"
      ]
    },
    {
      "cell_type": "code",
      "execution_count": 52,
      "metadata": {
        "id": "ud5DMETOU8hS"
      },
      "outputs": [
        {
          "data": {
            "text/plain": [
              "smoker\n",
              "no     39.385338\n",
              "yes    38.514599\n",
              "Name: age, dtype: float64"
            ]
          },
          "execution_count": 52,
          "metadata": {},
          "output_type": "execute_result"
        }
      ],
      "source": [
        "mean = Y[\"age\"].mean()# (среднее) ваш код здесь\n",
        "mean"
      ]
    },
    {
      "cell_type": "code",
      "execution_count": 53,
      "metadata": {
        "id": "TVB8P3FDVwxM"
      },
      "outputs": [
        {
          "data": {
            "text/plain": [
              "smoker\n",
              "no     40.0\n",
              "yes    38.0\n",
              "Name: age, dtype: float64"
            ]
          },
          "execution_count": 53,
          "metadata": {},
          "output_type": "execute_result"
        }
      ],
      "source": [
        "median = Y[\"age\"].median() # (медиана) ваш код здесь\n",
        "median"
      ]
    },
    {
      "cell_type": "code",
      "execution_count": 54,
      "metadata": {
        "id": "0xHCgiXCVyhs"
      },
      "outputs": [
        {
          "data": {
            "text/plain": [
              "0    18\n",
              "Name: age, dtype: int64"
            ]
          },
          "execution_count": 54,
          "metadata": {},
          "output_type": "execute_result"
        }
      ],
      "source": [
        "mode = df[\"age\"].mode() # (мода) ваш код здесь\n",
        "mode"
      ]
    },
    {
      "cell_type": "code",
      "execution_count": 55,
      "metadata": {
        "id": "HprClRfXVzxW"
      },
      "outputs": [
        {
          "data": {
            "text/plain": [
              "smoker\n",
              "no     18\n",
              "yes    18\n",
              "Name: age, dtype: int64"
            ]
          },
          "execution_count": 55,
          "metadata": {},
          "output_type": "execute_result"
        }
      ],
      "source": [
        "min = Y[\"age\"].min()# (минимум) ваш код здесь\n",
        "min"
      ]
    },
    {
      "cell_type": "code",
      "execution_count": 56,
      "metadata": {
        "id": "sA2gR7IAV1k3"
      },
      "outputs": [
        {
          "data": {
            "text/plain": [
              "smoker\n",
              "no     64\n",
              "yes    64\n",
              "Name: age, dtype: int64"
            ]
          },
          "execution_count": 56,
          "metadata": {},
          "output_type": "execute_result"
        }
      ],
      "source": [
        "max = Y[\"age\"].max() # (максимум) ваш код здесь\n",
        "max"
      ]
    },
    {
      "cell_type": "code",
      "execution_count": 57,
      "metadata": {
        "id": "BWeXHW3Vovz4"
      },
      "outputs": [
        {
          "data": {
            "text/plain": [
              "smoker\n",
              "no     14.083410\n",
              "yes    13.923186\n",
              "Name: age, dtype: float64"
            ]
          },
          "execution_count": 57,
          "metadata": {},
          "output_type": "execute_result"
        }
      ],
      "source": [
        "std = Y[\"age\"].std() # (стандартное отклонение) Ваш код здесь\n",
        "std"
      ]
    },
    {
      "cell_type": "markdown",
      "metadata": {
        "id": "dZEVd9QIVMyV"
      },
      "source": [
        "Вычислите следующие квантили: 25%, 50% (медиана), 75% для числового признака вашего датасета. Затем найдите интерквартильный размах."
      ]
    },
    {
      "cell_type": "code",
      "execution_count": 59,
      "metadata": {
        "id": "2UMcBq9dVbVE"
      },
      "outputs": [
        {
          "data": {
            "text/plain": [
              "smoker\n",
              "no     26.75\n",
              "yes    27.00\n",
              "Name: age, dtype: float64"
            ]
          },
          "execution_count": 59,
          "metadata": {},
          "output_type": "execute_result"
        }
      ],
      "source": [
        "q1 = Y[\"age\"].quantile(0.25) # (25% квантиль) ваш код здесь\n",
        "q1"
      ]
    },
    {
      "cell_type": "code",
      "execution_count": 60,
      "metadata": {
        "id": "8joJvKduWJsC"
      },
      "outputs": [
        {
          "data": {
            "text/plain": [
              "smoker\n",
              "no     40.0\n",
              "yes    38.0\n",
              "Name: age, dtype: float64"
            ]
          },
          "execution_count": 60,
          "metadata": {},
          "output_type": "execute_result"
        }
      ],
      "source": [
        "q2 = Y[\"age\"].quantile(0.5) # (50% квантиль) ваш код здесь\n",
        "q2"
      ]
    },
    {
      "cell_type": "code",
      "execution_count": 61,
      "metadata": {
        "id": "pQTQqM3GWLOV"
      },
      "outputs": [
        {
          "data": {
            "text/plain": [
              "smoker\n",
              "no     52.0\n",
              "yes    49.0\n",
              "Name: age, dtype: float64"
            ]
          },
          "execution_count": 61,
          "metadata": {},
          "output_type": "execute_result"
        }
      ],
      "source": [
        "q3 = Y[\"age\"].quantile(0.75) # (75% квантиль) ваш код здесь\n",
        "q3"
      ]
    },
    {
      "cell_type": "markdown",
      "metadata": {
        "id": "SAW8DnnK9kCL"
      },
      "source": []
    },
    {
      "cell_type": "code",
      "execution_count": 62,
      "metadata": {
        "id": "lAwZHIbfWMmH"
      },
      "outputs": [
        {
          "data": {
            "text/plain": [
              "smoker\n",
              "no     25.25\n",
              "yes    22.00\n",
              "Name: age, dtype: float64"
            ]
          },
          "execution_count": 62,
          "metadata": {},
          "output_type": "execute_result"
        }
      ],
      "source": [
        "iqr = q3 - q1 # (интерквартильный размах) ваш код здесь\n",
        "iqr"
      ]
    },
    {
      "cell_type": "markdown",
      "metadata": {
        "id": "vm0-5sY4WX2I"
      },
      "source": [
        "Какие выводы можно сделать исходя из полученных статистических данных?"
      ]
    },
    {
      "cell_type": "markdown",
      "metadata": {
        "id": "OnO1hVGyWe8D"
      },
      "source": [
        "**Ответ здесь**\n",
        "\n",
        "По значениям максимумаи минимума можно узнать диапозон возраста курящих и не курящих от 18 до 64, также можно заметить что они совпадают. Значение моды говорит на что наибольшее количество людей в возрасте 18 лет. если рассмотри медиану и интерквартильный размах то можеи получить что 50% нашей выборки это люди в возрасте от 27 до 52 (некурящие) и от 27 до 49 (курящие) , группа некурящих более возрастная. Значение стандартного отклонения говорит, что велик разброс данных.\n",
        "\n",
        "``` \n",
        "Example: видим, что среднее и отклонение различается между группами, следовательно...\n",
        "Сделать подобные выводы относительно других статистических характеристик\n",
        "```\n"
      ]
    },
    {
      "cell_type": "markdown",
      "metadata": {
        "id": "zDISZbQVWk6m"
      },
      "source": [
        "##Основы визуализации"
      ]
    },
    {
      "cell_type": "markdown",
      "metadata": {
        "id": "aU8cakZvZBuj"
      },
      "source": [
        " Постройте гистограмму переменной (X) относительно категориального признака (Y) из своего датасета."
      ]
    },
    {
      "cell_type": "code",
      "execution_count": 74,
      "metadata": {
        "id": "9-KTIzdfZLmP"
      },
      "outputs": [
        {
          "data": {
            "text/html": [
              "<div>\n",
              "<style scoped>\n",
              "    .dataframe tbody tr th:only-of-type {\n",
              "        vertical-align: middle;\n",
              "    }\n",
              "\n",
              "    .dataframe tbody tr th {\n",
              "        vertical-align: top;\n",
              "    }\n",
              "\n",
              "    .dataframe thead th {\n",
              "        text-align: right;\n",
              "    }\n",
              "</style>\n",
              "<table border=\"1\" class=\"dataframe\">\n",
              "  <thead>\n",
              "    <tr style=\"text-align: right;\">\n",
              "      <th></th>\n",
              "      <th>age</th>\n",
              "      <th>sex</th>\n",
              "      <th>bmi</th>\n",
              "      <th>children</th>\n",
              "      <th>smoker</th>\n",
              "      <th>region</th>\n",
              "      <th>charges</th>\n",
              "    </tr>\n",
              "  </thead>\n",
              "  <tbody>\n",
              "    <tr>\n",
              "      <th>0</th>\n",
              "      <td>19</td>\n",
              "      <td>female</td>\n",
              "      <td>27.900</td>\n",
              "      <td>0</td>\n",
              "      <td>yes</td>\n",
              "      <td>southwest</td>\n",
              "      <td>16884.92400</td>\n",
              "    </tr>\n",
              "    <tr>\n",
              "      <th>11</th>\n",
              "      <td>62</td>\n",
              "      <td>female</td>\n",
              "      <td>26.290</td>\n",
              "      <td>0</td>\n",
              "      <td>yes</td>\n",
              "      <td>southeast</td>\n",
              "      <td>27808.72510</td>\n",
              "    </tr>\n",
              "    <tr>\n",
              "      <th>14</th>\n",
              "      <td>27</td>\n",
              "      <td>male</td>\n",
              "      <td>42.130</td>\n",
              "      <td>0</td>\n",
              "      <td>yes</td>\n",
              "      <td>southeast</td>\n",
              "      <td>39611.75770</td>\n",
              "    </tr>\n",
              "    <tr>\n",
              "      <th>19</th>\n",
              "      <td>30</td>\n",
              "      <td>male</td>\n",
              "      <td>35.300</td>\n",
              "      <td>0</td>\n",
              "      <td>yes</td>\n",
              "      <td>southwest</td>\n",
              "      <td>36837.46700</td>\n",
              "    </tr>\n",
              "    <tr>\n",
              "      <th>23</th>\n",
              "      <td>34</td>\n",
              "      <td>female</td>\n",
              "      <td>31.920</td>\n",
              "      <td>1</td>\n",
              "      <td>yes</td>\n",
              "      <td>northeast</td>\n",
              "      <td>37701.87680</td>\n",
              "    </tr>\n",
              "    <tr>\n",
              "      <th>...</th>\n",
              "      <td>...</td>\n",
              "      <td>...</td>\n",
              "      <td>...</td>\n",
              "      <td>...</td>\n",
              "      <td>...</td>\n",
              "      <td>...</td>\n",
              "      <td>...</td>\n",
              "    </tr>\n",
              "    <tr>\n",
              "      <th>1313</th>\n",
              "      <td>19</td>\n",
              "      <td>female</td>\n",
              "      <td>34.700</td>\n",
              "      <td>2</td>\n",
              "      <td>yes</td>\n",
              "      <td>southwest</td>\n",
              "      <td>36397.57600</td>\n",
              "    </tr>\n",
              "    <tr>\n",
              "      <th>1314</th>\n",
              "      <td>30</td>\n",
              "      <td>female</td>\n",
              "      <td>23.655</td>\n",
              "      <td>3</td>\n",
              "      <td>yes</td>\n",
              "      <td>northwest</td>\n",
              "      <td>18765.87545</td>\n",
              "    </tr>\n",
              "    <tr>\n",
              "      <th>1321</th>\n",
              "      <td>62</td>\n",
              "      <td>male</td>\n",
              "      <td>26.695</td>\n",
              "      <td>0</td>\n",
              "      <td>yes</td>\n",
              "      <td>northeast</td>\n",
              "      <td>28101.33305</td>\n",
              "    </tr>\n",
              "    <tr>\n",
              "      <th>1323</th>\n",
              "      <td>42</td>\n",
              "      <td>female</td>\n",
              "      <td>40.370</td>\n",
              "      <td>2</td>\n",
              "      <td>yes</td>\n",
              "      <td>southeast</td>\n",
              "      <td>43896.37630</td>\n",
              "    </tr>\n",
              "    <tr>\n",
              "      <th>1337</th>\n",
              "      <td>61</td>\n",
              "      <td>female</td>\n",
              "      <td>29.070</td>\n",
              "      <td>0</td>\n",
              "      <td>yes</td>\n",
              "      <td>northwest</td>\n",
              "      <td>29141.36030</td>\n",
              "    </tr>\n",
              "  </tbody>\n",
              "</table>\n",
              "<p>274 rows × 7 columns</p>\n",
              "</div>"
            ],
            "text/plain": [
              "      age     sex     bmi  children smoker     region      charges\n",
              "0      19  female  27.900         0    yes  southwest  16884.92400\n",
              "11     62  female  26.290         0    yes  southeast  27808.72510\n",
              "14     27    male  42.130         0    yes  southeast  39611.75770\n",
              "19     30    male  35.300         0    yes  southwest  36837.46700\n",
              "23     34  female  31.920         1    yes  northeast  37701.87680\n",
              "...   ...     ...     ...       ...    ...        ...          ...\n",
              "1313   19  female  34.700         2    yes  southwest  36397.57600\n",
              "1314   30  female  23.655         3    yes  northwest  18765.87545\n",
              "1321   62    male  26.695         0    yes  northeast  28101.33305\n",
              "1323   42  female  40.370         2    yes  southeast  43896.37630\n",
              "1337   61  female  29.070         0    yes  northwest  29141.36030\n",
              "\n",
              "[274 rows x 7 columns]"
            ]
          },
          "execution_count": 74,
          "metadata": {},
          "output_type": "execute_result"
        },
        {
          "data": {
            "image/png": "[encoded data removed]",
            "text/plain": [
              "<Figure size 600x600 with 1 Axes>"
            ]
          },
          "metadata": {},
          "output_type": "display_data"
        }
      ],
      "source": [
        "plt.figure(figsize=(6, 6))\n",
        "sns.countplot(x= 'smoker', hue='age', data=df)\n",
        "df.loc[df['smoker'] == 'yes']\n"
      ]
    },
    {
      "cell_type": "markdown",
      "metadata": {
        "id": "zPsEO4m1ZWDy"
      },
      "source": [
        "Постройте boxplot любого признака из своего датасета.\n",
        "\n",
        "1) boxplot числовой переменной;\n",
        "\n",
        "2) boxplot числовой переменной относительно категориальный переменной;\n",
        "\n",
        "*p.s. Если у вас только один числовой признак, преобразуйте категориальный при помощи LabelEncoder (https://scikit-learn.org/stable/modules/generated/sklearn.preprocessing.LabelEncoder.html)*"
      ]
    },
    {
      "cell_type": "code",
      "execution_count": 76,
      "metadata": {
        "id": "ccJLh1r-Zdne"
      },
      "outputs": [
        {
          "data": {
            "image/png": "[encoded data removed]",
            "text/plain": [
              "<Figure size 500x500 with 1 Axes>"
            ]
          },
          "metadata": {},
          "output_type": "display_data"
        }
      ],
      "source": [
        "plt.figure(figsize=(5, 5))\n",
        "plt.boxplot(df['age'])\n",
        "\n",
        "plt.show()"
      ]
    },
    {
      "cell_type": "code",
      "execution_count": 77,
      "metadata": {
        "id": "9ZRV3jjlq9NN"
      },
      "outputs": [
        {
          "data": {
            "text/plain": [
              "<Axes: xlabel='age', ylabel='smoker'>"
            ]
          },
          "execution_count": 77,
          "metadata": {},
          "output_type": "execute_result"
        },
        {
          "data": {
            "image/png": "[encoded data removed]",
            "text/plain": [
              "<Figure size 640x480 with 1 Axes>"
            ]
          },
          "metadata": {},
          "output_type": "display_data"
        }
      ],
      "source": [
        "\n",
        "sns.boxplot(y=\"smoker\", x=\"age\", data=df)"
      ]
    },
    {
      "cell_type": "markdown",
      "metadata": {
        "id": "mj8cdITDZh53"
      },
      "source": [
        "Постройте диаграмму рассеивания для числовых признаков вашего датасета.\n",
        "\n",
        "*p.s. Если у вас только один числовой признак, преобразуйте категориальный при помощи LabelEncoder (https://scikit-learn.org/stable/modules/generated/sklearn.preprocessing.LabelEncoder.html)*"
      ]
    },
    {
      "cell_type": "code",
      "execution_count": 81,
      "metadata": {
        "id": "V2-ZoNUcZ_2l"
      },
      "outputs": [
        {
          "data": {
            "image/png": "[encoded data removed]",
            "text/plain": [
              "<Figure size 500x500 with 1 Axes>"
            ]
          },
          "metadata": {},
          "output_type": "display_data"
        }
      ],
      "source": [
        "\n",
        "plt.figure(figsize=(5, 5))\n",
        "plt.scatter(x=df['age'], y=df['charges'], color='cyan')\n",
        "plt.xlabel('age')\n",
        "plt.ylabel('charges')\n",
        "plt.show()\n",
        "     "
      ]
    },
    {
      "cell_type": "markdown",
      "metadata": {
        "id": "S-jG4a5SaFXS"
      },
      "source": [
        "Вывод: существует зависимость между возрастом и суммой оплаты за страховку.\n",
        "\n",
        "Постройте матрицу корреляции для двух числовых признаков вашего датасета."
      ]
    },
    {
      "cell_type": "code",
      "execution_count": null,
      "metadata": {
        "id": "u_lOnPtjnfbq"
      },
      "outputs": [],
      "source": []
    },
    {
      "cell_type": "code",
      "execution_count": 82,
      "metadata": {
        "id": "p04Ifq_ZaOHb"
      },
      "outputs": [
        {
          "data": {
            "text/plain": [
              "<Axes: >"
            ]
          },
          "execution_count": 82,
          "metadata": {},
          "output_type": "execute_result"
        },
        {
          "data": {
            "image/png": "[encoded data removed]",
            "text/plain": [
              "<Figure size 400x400 with 2 Axes>"
            ]
          },
          "metadata": {},
          "output_type": "display_data"
        }
      ],
      "source": [
        "num_matrix = df[['age','charges']]\n",
        "\n",
        "corr_matrix = num_matrix.corr()\n",
        "\n",
        "plt.figure(figsize=(4, 4))\n",
        "sns.heatmap(corr_matrix, annot=True)"
      ]
    },
    {
      "cell_type": "markdown",
      "metadata": {
        "id": "2MVHWXICaoJ4"
      },
      "source": [
        "Какие выводы можно сделать на основе графиков и матрицы корреляции?"
      ]
    },
    {
      "cell_type": "markdown",
      "metadata": {
        "id": "HFAFaiNzatLN"
      },
      "source": [
        "**Ответ здесь**\n",
        "\n",
        "Можно судить что значения имеют слабую но заметную зависимость друг от друга."
      ]
    },
    {
      "cell_type": "markdown",
      "metadata": {
        "id": "K5HCSPTPbwfJ"
      },
      "source": [
        "##Задание для гениев*"
      ]
    },
    {
      "cell_type": "markdown",
      "metadata": {
        "id": "pil5bgt5b98A"
      },
      "source": [
        "Реализовать следующие методы поиска выбросов:\n",
        "1. На основе среднего и отклонения\n",
        "2. Критерий Шовене\n",
        "3. С помощью квартилей\n",
        "4. Поиск выбросов по двум переменным\n",
        "\n",
        "[Посмотреть](http://course.omgtu.ru/wp-content/uploads/2021/04/3_%D0%92%D1%8B%D0%B1%D1%80%D0%BE%D1%81%D1%8B.pdf)\n",
        "\n",
        "P.S. в качестве возвразаемого значения методов может быть:\n",
        "1. очищенный датафрейм\n",
        "2. индексы выбросов ```df.series.index```"
      ]
    },
    {
      "cell_type": "code",
      "execution_count": null,
      "metadata": {
        "id": "IXM6eoIvdCBs"
      },
      "outputs": [],
      "source": [
        "\"\"\"\n",
        "\n",
        "\n",
        "Ваш код здесь\n",
        "\n",
        "\n",
        "\"\"\""
      ]
    },
    {
      "cell_type": "markdown",
      "metadata": {
        "id": "dRQRyxdgD_sk"
      },
      "source": [
        "### Пример реализации одного метода"
      ]
    },
    {
      "cell_type": "code",
      "execution_count": null,
      "metadata": {
        "id": "lJEOQcx0vavH"
      },
      "outputs": [],
      "source": [
        "from statistics import median, mean\n",
        "\n",
        "class Outline:\n",
        "  def __init__(self, df):\n",
        "    self.df = df\n",
        "\n",
        "  def delete_outline_by_mean(self, column_name):\n",
        "    mean_data = mean(self.df[column_name])\n",
        "    maximum = mean_data * 2\n",
        "    result = []\n",
        "\n",
        "    for item in self.df[column_name]:\n",
        "      if abs(item - mean_data) < maximum:\n",
        "        result.append(item)\n",
        "\n",
        "    return result\n",
        "\n"
      ]
    },
    {
      "cell_type": "code",
      "execution_count": null,
      "metadata": {
        "colab": {
          "base_uri": "https://localhost:8080/"
        },
        "id": "1EViTEon8Rkj",
        "outputId": "d1fa0b6f-a127-4d89-c2c8-9597251aaac6"
      },
      "outputs": [
        {
          "data": {
            "text/plain": [
              "[1, 2, 3, 4, 5]"
            ]
          },
          "execution_count": 39,
          "metadata": {},
          "output_type": "execute_result"
        }
      ],
      "source": [
        "data = pd.DataFrame(\n",
        "    data = {\n",
        "        \"col1\": [1, 2, 3, 4, 5, 1000],\n",
        "        \"col2\": [1, 2, 3, 2, 1, 4]\n",
        "    }\n",
        ")\n",
        "\n",
        "so = Outline(data)\n",
        "so.delete_outline_by_mean(\"col1\")"
      ]
    }
  ],
  "metadata": {
    "colab": {
      "include_colab_link": true,
      "provenance": []
    },
    "kernelspec": {
      "display_name": "Python 3",
      "name": "python3"
    },
    "language_info": {
      "codemirror_mode": {
        "name": "ipython",
        "version": 3
      },
      "file_extension": ".py",
      "mimetype": "text/x-python",
      "name": "python",
      "nbconvert_exporter": "python",
      "pygments_lexer": "ipython3",
      "version": "3.10.11"
    }
  },
  "nbformat": 4,
  "nbformat_minor": 0
}
